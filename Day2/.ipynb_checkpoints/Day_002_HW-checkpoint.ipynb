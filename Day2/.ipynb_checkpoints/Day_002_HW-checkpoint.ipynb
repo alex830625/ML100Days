{
 "cells": [
  {
   "cell_type": "code",
   "execution_count": 41,
   "metadata": {},
   "outputs": [
    {
     "name": "stdout",
     "output_type": "stream",
     "text": [
      "isnumeric_count: 4\n",
      "isdigit_count: 2\n",
      "isdecimal_count: 1\n"
     ]
    }
   ],
   "source": [
    "#isnumeric(), isdigit(), isdecimal() 各有幾個\n",
    "\n",
    "test_string = ['5.9', '30', '½', '³', '⑬']\n",
    "\n",
    "\n",
    "def spam():\n",
    "    n = 0\n",
    "    o = 0\n",
    "    p = 0\n",
    "    \n",
    "    for i in test_string:\n",
    "        if i.isnumeric() is True:\n",
    "            n += 1\n",
    "    for j in test_string:\n",
    "        if j.isdigit() is True:\n",
    "            o += 1\n",
    "    for k in test_string:\n",
    "        if k.isdecimal() is True:\n",
    "            p += 1\n",
    "    \n",
    "    return n,o,p\n",
    "        \n",
    "\n",
    "    \n",
    "result1 = spam()[0]\n",
    "result2 = spam()[1]\n",
    "result3 = spam()[2]     \n",
    "        \n",
    "print('isnumeric_count: {}'.format(result1))     \n",
    "print('isdigit_count: {}'.format(result2))     \n",
    "print('isdecimal_count: {}'.format(result3))         \n",
    "        \n",
    "        \n",
    "\n",
    "                    "
   ]
  },
  {
   "cell_type": "code",
   "execution_count": 12,
   "metadata": {},
   "outputs": [
    {
     "name": "stdout",
     "output_type": "stream",
     "text": [
      "Accuracy:98.13%\n",
      "Recall:94.88%\n",
      "Precision:96.29%\n"
     ]
    }
   ],
   "source": [
    "#運用formatting 技巧 output\n",
    "#* Accuracy: 98.13%, Recall: 94.88%, Precision: 96.29%\n",
    "accuracy = 98.129393\n",
    "recall =   94.879583\n",
    "precision =96.294821\n",
    "\n",
    "print('Accuracy:{:.2f}%'.format(accuracy))\n",
    "print('Recall:{:.2f}%'.format(recall))\n",
    "print('Precision:{:.2f}%'.format(precision))\n"
   ]
  },
  {
   "cell_type": "code",
   "execution_count": 27,
   "metadata": {},
   "outputs": [
    {
     "data": {
      "text/plain": [
       "'3.14e+00'"
      ]
     },
     "execution_count": 27,
     "metadata": {},
     "output_type": "execute_result"
    }
   ],
   "source": [
    "#依照指示轉換number output format\n",
    "\n",
    "number = 3.1415926 \n",
    "#轉換為科學符號表示法 (小數點後兩位) \n",
    "'{:.2e}'.format(number)\n"
   ]
  },
  {
   "cell_type": "code",
   "execution_count": 29,
   "metadata": {},
   "outputs": [
    {
     "data": {
      "text/plain": [
       "'314.16%'"
      ]
     },
     "execution_count": 29,
     "metadata": {},
     "output_type": "execute_result"
    }
   ],
   "source": [
    "#轉換為%\n",
    "'{:.2%}'.format(number)\n",
    "\n",
    "#補零成為3.14159300"
   ]
  },
  {
   "cell_type": "code",
   "execution_count": 40,
   "metadata": {},
   "outputs": [
    {
     "data": {
      "text/plain": [
       "'3.14159300'"
      ]
     },
     "execution_count": 40,
     "metadata": {},
     "output_type": "execute_result"
    }
   ],
   "source": [
    "#補零成為3.14159300\n",
    "'{:0<10f}'.format(number)"
   ]
  },
  {
   "cell_type": "code",
   "execution_count": null,
   "metadata": {},
   "outputs": [],
   "source": []
  },
  {
   "cell_type": "code",
   "execution_count": null,
   "metadata": {},
   "outputs": [],
   "source": []
  }
 ],
 "metadata": {
  "kernelspec": {
   "display_name": "Python 3",
   "language": "python",
   "name": "python3"
  },
  "language_info": {
   "codemirror_mode": {
    "name": "ipython",
    "version": 3
   },
   "file_extension": ".py",
   "mimetype": "text/x-python",
   "name": "python",
   "nbconvert_exporter": "python",
   "pygments_lexer": "ipython3",
   "version": "3.7.4"
  }
 },
 "nbformat": 4,
 "nbformat_minor": 4
}
