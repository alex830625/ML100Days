{
 "cells": [
  {
   "cell_type": "code",
   "execution_count": 1,
   "metadata": {},
   "outputs": [],
   "source": [
    "#本次作業將以互動式網站Regex101來做練習，請將所需配對文本複製貼上到Regex101的TEST STRING區塊來做練習\n",
    "#https://regex101.com/"
   ]
  },
  {
   "cell_type": "code",
   "execution_count": 3,
   "metadata": {},
   "outputs": [],
   "source": [
    "#抓出在電話號碼的所在地區以及號碼\n",
    "#所需配對文本:\n",
    "02-27208889\n",
    "04-2220-3585\n",
    "(06)-2991111\n",
    "(07)799-5678\n",
    "\n",
    "ans = \\d+"
   ]
  },
  {
   "cell_type": "code",
   "execution_count": null,
   "metadata": {},
   "outputs": [],
   "source": [
    "#請配對出找出桃園(H), 台南(D), 嘉義(Q)中為男生的身分證字號(數字為1開頭)\n",
    "# A121040176\n",
    "# L186856359\n",
    "# Z127598010\n",
    "# I114537095\n",
    "# D279884447\n",
    "# L186834359\n",
    "# D243736345\n",
    "# I114537095\n",
    "# Q146110887\n",
    "# D187217314\n",
    "# I114537095\n",
    "# Q243556025\n",
    "# Z127598010\n",
    "# H250077453\n",
    "# Q188367037\n",
    "\n",
    "ans = [H,D,Q](1)\\d+"
   ]
  },
  {
   "cell_type": "code",
   "execution_count": null,
   "metadata": {},
   "outputs": [],
   "source": [
    "# 請抓出非gmail的電子郵件\n",
    "\n",
    "# foobar@gmail.com\n",
    "# NoOneCareMe@gmail.com\n",
    "# SaveTheWorld@hotmail.com\n",
    "# zzzGroup@yahoo.com\n",
    "# eagle1963@gmail.com\n",
    "# maythefourthwithyiu@starwars.com\n",
    "\n",
    "ans = .*@[^g].*"
   ]
  },
  {
   "cell_type": "code",
   "execution_count": null,
   "metadata": {},
   "outputs": [],
   "source": [
    "# 請抓出當中的Tag就好，裡面的屬性請排除。\n",
    "\n",
    "# <h1>This is a header 1</h1>\n",
    "# <a>This is a hyperlink</a>\n",
    "# <div class='test'>This is a text block</div>\n",
    "# <a href=\"https://regexisfun.com.tw/\">Learning Regular Expression</a>\n",
    "\n",
    "\n",
    "ans = (?<=/)\\w+(?=>)"
   ]
  },
  {
   "cell_type": "code",
   "execution_count": null,
   "metadata": {},
   "outputs": [],
   "source": [
    "# 在所有檔案中，抓出屬於 gif 或 jpg 的檔名。\n",
    "\n",
    "# .bash_profile\n",
    "# workShop.ai\n",
    "# file_folderName_num.jpg\n",
    "# favicon.png\n",
    "# IMG_002.png\n",
    "# IMG_003.gif\n",
    "# qoo.jpg.tmp\n",
    "# index.html\n",
    "# foobar.bmp\n",
    "# foobar.jpg\n",
    "# account.html\n",
    "# access.lock\n",
    "\n",
    "ans = .*(jpg|gif)$"
   ]
  },
  {
   "cell_type": "code",
   "execution_count": null,
   "metadata": {},
   "outputs": [],
   "source": [
    "# 請抓出 Url 中的協定方式, 網址, 與埠\n",
    "\n",
    "# ftp://file_server.com:21/account/customers.xml\n",
    "# https://hengxiuxu.blogspot.tw/\n",
    "# file://localhost:4200\n",
    "# https://s3cur3-server.com:9999/\n",
    "\n",
    "ans = (\\w+)(?=:\\/\\/)|(?<=:\\/\\/)([^:\\/]+)|(?<=:)(\\d+)"
   ]
  }
 ],
 "metadata": {
  "kernelspec": {
   "display_name": "Python 3",
   "language": "python",
   "name": "python3"
  },
  "language_info": {
   "codemirror_mode": {
    "name": "ipython",
    "version": 3
   },
   "file_extension": ".py",
   "mimetype": "text/x-python",
   "name": "python",
   "nbconvert_exporter": "python",
   "pygments_lexer": "ipython3",
   "version": "3.7.4"
  }
 },
 "nbformat": 4,
 "nbformat_minor": 4
}
